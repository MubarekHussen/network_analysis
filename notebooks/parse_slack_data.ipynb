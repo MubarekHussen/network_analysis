{
 "cells": [
  {
   "cell_type": "code",
   "execution_count": 76,
   "metadata": {},
   "outputs": [],
   "source": [
    "%reload_ext autoreload\n",
    "%autoreload 2"
   ]
  },
  {
   "cell_type": "code",
   "execution_count": 77,
   "metadata": {},
   "outputs": [],
   "source": [
    "import os, sys\n",
    "import re\n",
    "import json\n",
    "import glob\n",
    "import datetime\n",
    "from collections import Counter\n",
    "\n",
    "import pandas as pd\n",
    "from matplotlib import pyplot as plt\n",
    "import seaborn as sns\n",
    "\n",
    "from nltk.corpus import stopwords\n",
    "from wordcloud import WordCloud"
   ]
  },
  {
   "cell_type": "code",
   "execution_count": 78,
   "metadata": {},
   "outputs": [],
   "source": [
    "# Add parent directory to path to import modules from src\n",
    "rpath = os.path.abspath('..')\n",
    "if rpath not in sys.path:\n",
    "    sys.path.insert(0, rpath)\n",
    "\n",
    "from src.loader import SlackDataLoader\n",
    "import src.utils as utils"
   ]
  },
  {
   "cell_type": "markdown",
   "metadata": {},
   "source": [
    "### Columns we can get from a slack message<br>\n",
    "\n",
    "message_type, message_content, sender_id, time_sent, message_distribution, time_thread_start, reply_count, reply_user_count, time_thread_end, reply_users"
   ]
  },
  {
   "cell_type": "markdown",
   "metadata": {},
   "source": [
    "From a single slack message, we can get <br>\n",
    "\n",
    "1. The message<br>\n",
    "2. Type (message, file, link, etc)<br>\n",
    "3. The sender_id (assigned by slack)<br>\n",
    "4. The time the message was sent<br>\n",
    "5. The team (i don't know what that is now)<br>\n",
    "6. The type of the message (broadcast message, inhouse, just messgae)<br>\n",
    "7. The thread the message generated (from here we can go):<br>\n",
    "    7.1 Text/content of the message<br>\n",
    "    7.2 The thread time of the message<br>\n",
    "    7.3 The thread count (reply count)<br>\n",
    "    7.4 The number of user that reply the message (count of users that participated in the thread)<br>\n",
    "    7.5 The time the last thread message was sent <br>\n",
    "    7.6 The users that participated in the thread (their ids are stored as well)<br>"
   ]
  },
  {
   "cell_type": "code",
   "execution_count": 79,
   "metadata": {},
   "outputs": [],
   "source": [
    "loader = SlackDataLoader(\"../src/anonymized/\")\n",
    "channel = loader.get_channels()\n",
    "all_data = []\n",
    "all_messages = []\n",
    "for i in channel:\n",
    "    data = loader.slack_parser(f\"../src/anonymized/{i['name']}/\")\n",
    "    all_data.append(data)\n",
    "\n",
    "for j in channel:\n",
    "    messages = loader.slack_parser(f\"../src/anonymized/{j['name']}/\")\n",
    "    all_messages.append(messages)\n",
    "\n",
    "# print(all_messages)\n",
    "df = pd.concat(all_data, ignore_index=True)\n",
    "# d"
   ]
  },
  {
   "cell_type": "code",
   "execution_count": 5,
   "metadata": {},
   "outputs": [
    {
     "name": "stdout",
     "output_type": "stream",
     "text": [
      "sender_name\n",
      "Cristian Wilson     620\n",
      "Vanessa Norman      462\n",
      "Brian Odom          367\n",
      "Brenda Hernandez    307\n",
      "Michelle Lewis      306\n",
      "April Lucas         302\n",
      "Travis Butler       299\n",
      "Amy Leon            282\n",
      "Joshua Rhodes       247\n",
      "Brady Rhodes        242\n",
      "Name: reply_count, dtype: int64\n"
     ]
    }
   ],
   "source": [
    "# Who are the top 10  users by replay count?\n",
    "user_reply_counts = df.groupby('sender_name')['reply_count'].sum().sort_values(ascending=False)\n",
    "top_10_users = user_reply_counts.head(10)\n",
    "print(top_10_users)"
   ]
  },
  {
   "cell_type": "code",
   "execution_count": 80,
   "metadata": {},
   "outputs": [
    {
     "name": "stdout",
     "output_type": "stream",
     "text": [
      "sender_name\n",
      "Randy Miller         4\n",
      "Leah Newton          2\n",
      "Blake Scott          0\n",
      "Patrick Hernandez    0\n",
      "Patricia Thomas      0\n",
      "Slackbot             0\n",
      "Christopher Case     0\n",
      "Holly Whitaker       0\n",
      "Erica Munoz          0\n",
      "David Scott          0\n",
      "Name: reply_count, dtype: int64\n"
     ]
    }
   ],
   "source": [
    "# Who are the bottom 10  users by replay count?\n",
    "user_reply_counts = df.groupby('sender_name')['reply_count'].sum().sort_values(ascending=False)\n",
    "bottom_10_users = user_reply_counts.tail(10)\n",
    "print(bottom_10_users)"
   ]
  },
  {
   "cell_type": "code",
   "execution_count": 122,
   "metadata": {},
   "outputs": [
    {
     "name": "stdout",
     "output_type": "stream",
     "text": [
      "Invalid user ID type: <class 'list'>\n",
      "Invalid user ID type: <class 'list'>\n",
      "Invalid user ID type: <class 'list'>\n",
      "Invalid user ID type: <class 'list'>\n",
      "Invalid user ID type: <class 'list'>\n",
      "Invalid user ID type: <class 'list'>\n",
      "Invalid user ID type: <class 'list'>\n",
      "Invalid user ID type: <class 'list'>\n",
      "Invalid user ID type: <class 'list'>\n",
      "Invalid user ID type: <class 'list'>\n"
     ]
    }
   ],
   "source": [
    "# Who are the top 10  users by mention count?\n",
    "mentioned_users = utils.get_tagged_users(df)\n",
    "\n",
    "# loader.get_users()\n",
    "# users_map = loader.get_user_map()[0]\n",
    "\n",
    "counts = pd.Series(mentioned_users).value_counts()\n",
    "top_10_users = counts.head(10)\n",
    "# print(top_10_users)"
   ]
  },
  {
   "cell_type": "code",
   "execution_count": 123,
   "metadata": {},
   "outputs": [
    {
     "name": "stdout",
     "output_type": "stream",
     "text": [
      "msg_content\n",
      "[@U03UJGP0C68, @U03UG32J3PC, @U03U9EJR362]                                1\n",
      "[@U03V6HMRPGQ, @U03TT5KEYCF]                                              1\n",
      "[@U03UJGP0C68, @U03UUR571A5, @U03UG4Q7V42]                                1\n",
      "[@U03TT5KEYCF, @U03U4GULU3Y, @U03UL5LSTG9]                                1\n",
      "[@U03UP7V9Q57, @U03V8LHPDME, @U03UKL27B0R, @U03U9DB7REG, @U03UUN8M4RX]    1\n",
      "[@U03V1AM5TFA, @U03T89ACUUW, @U03TEPYRM2P, @U03UKL27B0R, @U03V8LHPDME]    1\n",
      "[@U03UKL27B0R, @U03UP7V9Q57]                                              1\n",
      "[@U03UH397319, @U03UJGP0C68]                                              1\n",
      "[@U03UD68RQH3, @U03TEPYRM2P]                                              1\n",
      "[@U03V61VGQG0, @U03UUR571A5]                                              1\n",
      "Name: count, dtype: int64\n"
     ]
    }
   ],
   "source": [
    "# Who are the bottom 10  users by mention count?\n",
    "bottom_10_users = counts.tail(10)\n",
    "print(bottom_10_users)"
   ]
  },
  {
   "cell_type": "code",
   "execution_count": 83,
   "metadata": {},
   "outputs": [
    {
     "name": "stdout",
     "output_type": "stream",
     "text": [
      "sender_name\n",
      "Vanessa Norman      1288\n",
      "Amy Leon            1150\n",
      "Travis Butler       1075\n",
      "April Lucas          991\n",
      "Brenda Hernandez     843\n",
      "Cristian Wilson      831\n",
      "Phillip Atkins       754\n",
      "Brady Rhodes         641\n",
      "Judith Bolton        574\n",
      "Joshua Rhodes        519\n",
      "Name: count, dtype: int64\n"
     ]
    }
   ],
   "source": [
    "# Who are the top users by Message count?\n",
    "user_message_counts = df['sender_name'].value_counts()\n",
    "top_10_users = user_message_counts.head(10)\n",
    "print(top_10_users)"
   ]
  },
  {
   "cell_type": "code",
   "execution_count": 84,
   "metadata": {},
   "outputs": [
    {
     "name": "stdout",
     "output_type": "stream",
     "text": [
      "sender_name\n",
      "Leah Newton          10\n",
      "Patricia Thomas       8\n",
      "Randy Miller          7\n",
      "Patrick Hernandez     5\n",
      "Slackbot              3\n",
      "Erica Munoz           1\n",
      "Christopher Case      1\n",
      "Holly Whitaker        1\n",
      "David Scott           1\n",
      "Blake Scott           1\n",
      "Name: count, dtype: int64\n"
     ]
    }
   ],
   "source": [
    "# Who are the bottom users by Message count?\n",
    "bottom_10_users = user_message_counts.tail(10)\n",
    "print(bottom_10_users)"
   ]
  },
  {
   "cell_type": "code",
   "execution_count": 68,
   "metadata": {},
   "outputs": [],
   "source": [
    "# Who are the top users by Reaction count?\n"
   ]
  },
  {
   "cell_type": "code",
   "execution_count": null,
   "metadata": {},
   "outputs": [],
   "source": [
    "# Who are the bottom users by Reaction count?"
   ]
  },
  {
   "cell_type": "code",
   "execution_count": 69,
   "metadata": {},
   "outputs": [],
   "source": [
    "# What are the top 10 messages by Replies?\n",
    "# processes = utils.process_msgs(all)\n",
    "# print(processes)"
   ]
  },
  {
   "cell_type": "code",
   "execution_count": 70,
   "metadata": {},
   "outputs": [],
   "source": [
    "# message_list = utils.get_msgs_df_info(df)\n",
    "# print(message_list)"
   ]
  },
  {
   "cell_type": "code",
   "execution_count": 2,
   "metadata": {},
   "outputs": [],
   "source": [
    "def map_userid_2_realname(user_profile: dict, comm_dict: dict, plot=False):\n",
    "    \"\"\"\n",
    "    map slack_id to realnames\n",
    "    user_profile: a dictionary that contains users info such as real_names\n",
    "    comm_dict: a dictionary that contains slack_id and total_message sent by that slack_id\n",
    "    \"\"\"\n",
    "    user_dict = {} # to store the id\n",
    "    real_name = [] # to store the real name\n",
    "    ac_comm_dict = {} # to store the mapping\n",
    "    count = 0\n",
    "    # collect all the real names\n",
    "    for i in range(len(user_profile['profile'])):\n",
    "        real_name.append(dict(user_profile['profile'])[i]['real_name'])\n",
    "\n",
    "    # loop the slack ids\n",
    "    for i in user_profile['id']:\n",
    "        user_dict[i] = real_name[count]\n",
    "        count += 1\n",
    "\n",
    "    # to store mapping\n",
    "    for i in comm_dict:\n",
    "        if i in user_dict:\n",
    "            ac_comm_dict[user_dict[i]] = comm_dict[i]\n",
    "\n",
    "    ac_comm_dict = pd.DataFrame(data= zip(ac_comm_dict.keys(), ac_comm_dict.values()),\n",
    "    columns=['LearnerName', '# of Msg sent in Threads']).sort_values(by='# of Msg sent in Threads', ascending=False)\n",
    "    \n",
    "    if plot:\n",
    "        ac_comm_dict.plot.bar(figsize=(15, 7.5), x='LearnerName', y='# of Msg sent in Threads')\n",
    "        plt.title('Student based on Message sent in thread', size=20)\n",
    "        \n",
    "    return ac_comm_dict"
   ]
  },
  {
   "cell_type": "code",
   "execution_count": 38,
   "metadata": {},
   "outputs": [],
   "source": [
    "def get_top_20_user(data, channel='Random'):\n",
    "    \"\"\"get user with the highest number of message sent to any channel\"\"\"\n",
    "\n",
    "    data['sender_name'].value_counts()[:20].plot.bar(figsize=(15, 7.5))\n",
    "    plt.title(f'Top 20 Message Senders in #{channel} channels', size=15, fontweight='bold')\n",
    "    plt.xlabel(\"Sender Name\", size=18); plt.ylabel(\"Frequency\", size=14);\n",
    "    plt.xticks(size=12); plt.yticks(size=12);\n",
    "    plt.show()\n",
    "\n",
    "    data['sender_name'].value_counts()[-10:].plot.bar(figsize=(15, 7.5))\n",
    "    plt.title(f'Bottom 10 Message Senders in #{channel} channels', size=15, fontweight='bold')\n",
    "    plt.xlabel(\"Sender Name\", size=18); plt.ylabel(\"Frequency\", size=14);\n",
    "    plt.xticks(size=12); plt.yticks(size=12);\n",
    "    plt.show()\n",
    "\n",
    "def draw_avg_reply_count(data, channel='Random'):\n",
    "    \"\"\"who commands many reply?\"\"\"\n",
    "\n",
    "    data.groupby('sender_name')['reply_count'].mean().sort_values(ascending=False)[:20]\\\n",
    "        .plot(kind='bar', figsize=(15,7.5));\n",
    "    plt.title(f'Average Number of reply count per Sender in #{channel}', size=20, fontweight='bold')\n",
    "    plt.xlabel(\"Sender Name\", size=18); plt.ylabel(\"Frequency\", size=18);\n",
    "    plt.xticks(size=14); plt.yticks(size=14);\n",
    "    plt.show()\n",
    "\n",
    "def draw_avg_reply_users_count(data, channel='Random'):\n",
    "    \"\"\"who commands many user reply?\"\"\"\n",
    "\n",
    "    data.groupby('sender_name')['reply_users_count'].mean().sort_values(ascending=False)[:20].plot(kind='bar',\n",
    "     figsize=(15,7.5));\n",
    "    plt.title(f'Average Number of reply user count per Sender in #{channel}', size=20, fontweight='bold')\n",
    "    plt.xlabel(\"Sender Name\", size=18); plt.ylabel(\"Frequency\", size=18);\n",
    "    plt.xticks(size=14); plt.yticks(size=14);\n",
    "    plt.show()\n",
    "\n",
    "def draw_wordcloud(msg_content, week):    \n",
    "    # word cloud visualization\n",
    "    allWords = ' '.join([twts for twts in msg_content])\n",
    "    wordCloud = WordCloud(background_color='#975429', width=500, height=300, random_state=21, max_words=500, mode='RGBA',\n",
    "                            max_font_size=140, stopwords=stopwords.words('english')).generate(allWords)\n",
    "    plt.figure(figsize=(15, 7.5))\n",
    "    plt.imshow(wordCloud, interpolation=\"bilinear\")\n",
    "    plt.axis('off')\n",
    "    plt.tight_layout()\n",
    "    plt.title(f'WordCloud for {week}', size=30)\n",
    "    plt.show()\n",
    "\n",
    "def draw_user_reaction(data, channel='General'):\n",
    "    data.groupby('sender_name')[['reply_count', 'reply_users_count']].sum()\\\n",
    "        .sort_values(by='reply_count',ascending=False)[:10].plot(kind='bar', figsize=(15, 7.5))\n",
    "    plt.title(f'User with the most reaction in #{channel}', size=25);\n",
    "    plt.xlabel(\"Sender Name\", size=18); plt.ylabel(\"Frequency\", size=18);\n",
    "    plt.xticks(size=14); plt.yticks(size=14);\n",
    "    plt.show()"
   ]
  },
  {
   "cell_type": "markdown",
   "metadata": {},
   "source": [
    "## Insight Extraction\n",
    "\n",
    "Below are some useful questions to answer. Feel free to explore to answer other interesting questions that may be of help to get insight about student's behaviour, need, and future performance "
   ]
  },
  {
   "cell_type": "code",
   "execution_count": 54,
   "metadata": {},
   "outputs": [],
   "source": [
    "# which user has the highest number of reply counts?"
   ]
  },
  {
   "cell_type": "code",
   "execution_count": null,
   "metadata": {},
   "outputs": [],
   "source": [
    "# Visualize reply counts per user per channel"
   ]
  },
  {
   "cell_type": "code",
   "execution_count": null,
   "metadata": {},
   "outputs": [],
   "source": [
    "# what is the time range of the day that most messages are sent?\n"
   ]
  },
  {
   "cell_type": "code",
   "execution_count": 11,
   "metadata": {},
   "outputs": [],
   "source": [
    "# what kind of messages are replied faster than others?"
   ]
  },
  {
   "cell_type": "code",
   "execution_count": 15,
   "metadata": {},
   "outputs": [],
   "source": [
    "# Relationship between # of messages and # of reactions"
   ]
  },
  {
   "cell_type": "code",
   "execution_count": 16,
   "metadata": {},
   "outputs": [],
   "source": [
    "# Classify messages into different categories such as questions, answers, comments, etc."
   ]
  },
  {
   "cell_type": "code",
   "execution_count": 17,
   "metadata": {},
   "outputs": [],
   "source": [
    "# Which users got the most reactions?"
   ]
  },
  {
   "cell_type": "code",
   "execution_count": 33,
   "metadata": {},
   "outputs": [],
   "source": [
    "# Model topics mentioned in the channel"
   ]
  },
  {
   "cell_type": "code",
   "execution_count": null,
   "metadata": {},
   "outputs": [],
   "source": [
    "# What are the topics that got the most reactions?"
   ]
  },
  {
   "cell_type": "markdown",
   "metadata": {},
   "source": [
    "### Harder questions to look into"
   ]
  },
  {
   "cell_type": "code",
   "execution_count": null,
   "metadata": {},
   "outputs": [],
   "source": [
    "# Based on messages, reactions, references shared, and other relevant data such as classification of questions into techical question, comment, answer, aorder stu the python, statistics, and sql skill level of a user?"
   ]
  }
 ],
 "metadata": {
  "kernelspec": {
   "display_name": "Python 3",
   "language": "python",
   "name": "python3"
  },
  "language_info": {
   "codemirror_mode": {
    "name": "ipython",
    "version": 3
   },
   "file_extension": ".py",
   "mimetype": "text/x-python",
   "name": "python",
   "nbconvert_exporter": "python",
   "pygments_lexer": "ipython3",
   "version": "3.10.12"
  }
 },
 "nbformat": 4,
 "nbformat_minor": 4
}
